{
 "cells": [
  {
   "cell_type": "markdown",
   "id": "1d28ab9b-4ff9-4a97-a2b5-88e62bc14955",
   "metadata": {},
   "source": [
    "# Data Science Tools and Ecosystem"
   ]
  },
  {
   "cell_type": "markdown",
   "id": "f275c1de-f32e-4dc7-85fb-b2193a6a0ada",
   "metadata": {},
   "source": [
    "In this notebook, Data Science Tools and Ecosystem are summarized."
   ]
  },
  {
   "cell_type": "markdown",
   "id": "cbf6d8e5-fa5b-476c-94ee-761acd3a98cd",
   "metadata": {},
   "source": [
    "**Objectives:**\n",
    "- Provide a list of popular languages for data scientists\n",
    "- Provide a list of popular libraries\n",
    "- Convert 200 hours to minutes"
   ]
  },
  {
   "cell_type": "markdown",
   "id": "85cde3c3-16ca-40ae-80cd-0a747f8302d8",
   "metadata": {},
   "source": [
    "Some of the popular languages that Data Scientists use are:\n",
    "1. Python\n",
    "2. R\n",
    "3. Julia\n",
    "4. SQL"
   ]
  },
  {
   "cell_type": "markdown",
   "id": "9ba8fd50-f2f3-4196-878e-8f1d69b94f32",
   "metadata": {},
   "source": [
    "Some of the commonly used libraries used by Data Scientists include:\n",
    "1. Pandas\n",
    "2. Numpy\n",
    "3. Scikit learn\n",
    "4. Matplotlib\n",
    "5. Apache Spark"
   ]
  },
  {
   "cell_type": "markdown",
   "id": "38b8db87-0858-4de8-a863-d66003d8e437",
   "metadata": {},
   "source": [
    "|Data science tools|\n",
    "|------------------|\n",
    "|MySQL|\n",
    "|MongoDB|\n",
    "|Tensorflow|"
   ]
  },
  {
   "cell_type": "markdown",
   "id": "1d9dfc10-b524-48c4-a152-78d28a808688",
   "metadata": {},
   "source": [
    "### Below are a few examples of evaluating arithmetic expressions in Python"
   ]
  },
  {
   "cell_type": "code",
   "execution_count": 2,
   "id": "b6144531-dd2f-4b3a-9c78-5ed45a83e49e",
   "metadata": {
    "tags": []
   },
   "outputs": [
    {
     "data": {
      "text/plain": [
       "17"
      ]
     },
     "execution_count": 2,
     "metadata": {},
     "output_type": "execute_result"
    }
   ],
   "source": [
    "(3*4)+5\n",
    "#This a simple arithmetic expression to mutiply then add integers"
   ]
  },
  {
   "cell_type": "code",
   "execution_count": 3,
   "id": "69e9fd66-cbc1-4cb3-91e8-4993a087d215",
   "metadata": {
    "tags": []
   },
   "outputs": [
    {
     "data": {
      "text/plain": [
       "3.3333333333333335"
      ]
     },
     "execution_count": 3,
     "metadata": {},
     "output_type": "execute_result"
    }
   ],
   "source": [
    "#this will convert 200 minutes to hours by dividing by 60\n",
    "200/60"
   ]
  },
  {
   "cell_type": "markdown",
   "id": "89fe42ee-48f2-4551-bde9-289223d1ceb6",
   "metadata": {},
   "source": [
    "## Author\n",
    "Michiel Mariën"
   ]
  },
  {
   "cell_type": "code",
   "execution_count": null,
   "id": "d0c58d1c-fd87-4117-9ef8-ace0638c0587",
   "metadata": {},
   "outputs": [],
   "source": []
  }
 ],
 "metadata": {
  "kernelspec": {
   "display_name": "Python",
   "language": "python",
   "name": "conda-env-python-py"
  },
  "language_info": {
   "codemirror_mode": {
    "name": "ipython",
    "version": 3
   },
   "file_extension": ".py",
   "mimetype": "text/x-python",
   "name": "python",
   "nbconvert_exporter": "python",
   "pygments_lexer": "ipython3",
   "version": "3.7.12"
  }
 },
 "nbformat": 4,
 "nbformat_minor": 5
}
